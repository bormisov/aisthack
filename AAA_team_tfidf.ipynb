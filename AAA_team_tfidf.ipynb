{
 "cells": [
  {
   "cell_type": "code",
   "execution_count": 1,
   "metadata": {},
   "outputs": [],
   "source": [
    "import pandas\n",
    "from datetime import datetime, timedelta\n",
    "import time"
   ]
  },
  {
   "cell_type": "code",
   "execution_count": 2,
   "metadata": {},
   "outputs": [],
   "source": [
    "import pickle"
   ]
  },
  {
   "cell_type": "code",
   "execution_count": 3,
   "metadata": {},
   "outputs": [],
   "source": [
    "from sklearn.model_selection import train_test_split\n",
    "from sklearn.feature_extraction.text import TfidfVectorizer\n",
    "from sklearn.linear_model import LogisticRegression\n",
    "from sklearn.ensemble import RandomForestClassifier\n",
    "from sklearn.metrics import accuracy_score, auc, roc_auc_score"
   ]
  },
  {
   "cell_type": "code",
   "execution_count": 4,
   "metadata": {},
   "outputs": [],
   "source": [
    "chats = pandas.read_csv(\"train\\\\chats_train.csv\").sort_values('timestamp')"
   ]
  },
  {
   "cell_type": "code",
   "execution_count": 5,
   "metadata": {},
   "outputs": [],
   "source": [
    "news = pandas.read_csv(\"train\\\\news_train.csv\")\n",
    "onchain_EOS = pandas.read_csv(\"train\\\\onchain\\\\EOS_train.csv\")\n",
    "onchain_TRX = pandas.read_csv(\"train\\\\onchain\\\\TRX_train.csv\")\n",
    "prices = pandas.read_csv(\"train\\\\tickers_train.csv\")"
   ]
  },
  {
   "cell_type": "code",
   "execution_count": 6,
   "metadata": {},
   "outputs": [],
   "source": [
    "ticker = 'ZRX'\n",
    "delta = timedelta(hours=2)"
   ]
  },
  {
   "cell_type": "code",
   "execution_count": 7,
   "metadata": {},
   "outputs": [],
   "source": [
    "#Найдем максимальную и минимальную даты в файле с ценами\n",
    "min_date = datetime.today()\n",
    "max_date = datetime.fromordinal(1)\n",
    "# отфильтруем price по нашему токену и отсортируем по времени\n",
    "tic_prices = prices.loc[prices['ticker']==ticker].sort_values('datetime',ascending=True)"
   ]
  },
  {
   "cell_type": "code",
   "execution_count": 8,
   "metadata": {},
   "outputs": [],
   "source": [
    "for line in tic_prices['datetime']:\n",
    "    curtime = datetime.strptime(line,\"%Y-%m-%dT%H:%M:%SZ\")\n",
    "    if curtime > max_date:\n",
    "        max_date = curtime\n",
    "    if curtime < min_date:\n",
    "        min_date = curtime"
   ]
  },
  {
   "cell_type": "code",
   "execution_count": 9,
   "metadata": {},
   "outputs": [
    {
     "name": "stdout",
     "output_type": "stream",
     "text": [
      "2018-03-01 00:00:00 2018-04-30 22:00:00\n"
     ]
    }
   ],
   "source": [
    "print(min_date, max_date)"
   ]
  },
  {
   "cell_type": "code",
   "execution_count": 12,
   "metadata": {},
   "outputs": [],
   "source": [
    "Y = []\n",
    "price_index = 0\n",
    "cur_date = min_date\n",
    "last_price = tic_prices['priceBtc'].iloc[0]\n",
    "while cur_date <= max_date:\n",
    "    cur_price = tic_prices.iloc[price_index]\n",
    "    price_time = datetime.strptime(cur_price['datetime'],\"%Y-%m-%dT%H:%M:%SZ\")\n",
    "    #print(price_index, price_time,cur_date, last_price)\n",
    "    if price_time == cur_date:\n",
    "        Y.append(1 if cur_price['priceBtc'] < last_price else 0)\n",
    "        last_price = cur_price['priceBtc']\n",
    "        price_index = price_index + 1\n",
    "    else:\n",
    "        Y.append(0) \n",
    "    cur_date = cur_date + delta\n"
   ]
  },
  {
   "cell_type": "code",
   "execution_count": 13,
   "metadata": {},
   "outputs": [
    {
     "name": "stdout",
     "output_type": "stream",
     "text": [
      "0\n"
     ]
    }
   ],
   "source": [
    "chats_index = 0\n",
    "#Пропустим все тексты, которые появились раньше, чем за 2 часа до первой котировки\n",
    "first_text_timestamp = datetime.timestamp(min_date - delta) \n",
    "while chats.iloc[chats_index]['timestamp'] < first_text_timestamp:\n",
    "    chats_index = chats_index + 1\n",
    "print(chats_index)\n",
    "cur_day = min_date.day\n",
    "cur_chats = []\n",
    "cur_news = []\n",
    "cur_date = min_date\n",
    "X_raw = []\n",
    "X = []\n",
    "while cur_date <= max_date:\n",
    "    while (chats.iloc[chats_index]['timestamp'] < datetime.timestamp(cur_date)):\n",
    "        if chats.iloc[chats_index]['sender_is_bot']:            \n",
    "            chats_index = chats_index + 1\n",
    "            continue\n",
    "        cur_chats.append(chats.iloc[chats_index][['chat_id', 'chat_title', 'emoji_list', 'sender_first_name', 'sender_id',\n",
    "       'sender_is_bot', 'sender_last_name', 'sender_username', 'text']])\n",
    "        chats_index = chats_index + 1\n",
    "        cur_chats_counter = cur_chats_counter + 1\n",
    "        if cur_chats_counter > 200:\n",
    "            break\n",
    "    X_raw.append(cur_chats.copy())\n",
    "    cur_chats = []\n",
    "    cur_chats_counter = 0\n",
    "    cur_date = cur_date + delta\n",
    "    #if cur_date.day != cur_day:\n",
    "        #print(cur_date)\n",
    "        #cur_day = cur_date.day"
   ]
  },
  {
   "cell_type": "code",
   "execution_count": 14,
   "metadata": {
    "scrolled": true
   },
   "outputs": [],
   "source": [
    "X = []\n",
    "for cur_X in X_raw:\n",
    "    cur_str = ''\n",
    "    for message in cur_X:\n",
    "        cur_str = cur_str + str(message['text']) + ' '\n",
    "    X.append(cur_str)"
   ]
  },
  {
   "cell_type": "code",
   "execution_count": 15,
   "metadata": {},
   "outputs": [
    {
     "name": "stdout",
     "output_type": "stream",
     "text": [
      "658 74 658 74\n"
     ]
    }
   ],
   "source": [
    "x_train, x_test, y_train, y_test = train_test_split(X, Y, test_size=0.1, random_state=41, stratify=Y)\n",
    "print(len(x_train), len(x_test), len(y_train), len(y_test))"
   ]
  },
  {
   "cell_type": "code",
   "execution_count": 17,
   "metadata": {},
   "outputs": [
    {
     "name": "stdout",
     "output_type": "stream",
     "text": [
      "convergence after 24 epochs took 1 seconds\n",
      "0.5\n",
      "0.9969604863221885\n"
     ]
    },
    {
     "name": "stderr",
     "output_type": "stream",
     "text": [
      "[Parallel(n_jobs=1)]: Done   1 out of   1 | elapsed:    0.3s remaining:    0.0s\n",
      "[Parallel(n_jobs=1)]: Done   1 out of   1 | elapsed:    0.3s finished\n"
     ]
    }
   ],
   "source": [
    "vectorizer_char = TfidfVectorizer(max_features=40000,\n",
    "                             min_df=5, \n",
    "                             max_df=0.5, \n",
    "                             analyzer='word', \n",
    "                             ngram_range=(1, 2))\n",
    "\n",
    "vectorizer_char.fit(x_train);\n",
    "\n",
    "tfidf_matrix_char_train = vectorizer_char.transform(x_train)\n",
    "tfidf_matrix_char_test = vectorizer_char.transform(x_test)\n",
    "\n",
    "lr_char = LogisticRegression(solver='sag', verbose=2, multi_class='multinomial')\n",
    "#lr_char = RandomForestClassifier()\n",
    "lr_char.fit(tfidf_matrix_char_train, y_train)\n",
    "\n",
    "y_pred_char = lr_char.predict(tfidf_matrix_char_test)\n",
    "print(accuracy_score(y_test, y_pred_char))\n",
    "y_pred_train = lr_char.predict(tfidf_matrix_char_train)\n",
    "print(accuracy_score(y_train, y_pred_train))\n"
   ]
  },
  {
   "cell_type": "code",
   "execution_count": 18,
   "metadata": {},
   "outputs": [
    {
     "name": "stdout",
     "output_type": "stream",
     "text": [
      "[24, 13] 74\n"
     ]
    }
   ],
   "source": [
    "acc = [0,0]\n",
    "for i in range (len(y_test)):\n",
    "    if y_test[i] == y_pred_char[i]:\n",
    "        acc[y_pred_char[i]] = acc[y_pred_char[i]] + 1\n",
    "print(acc, len(y_test))"
   ]
  },
  {
   "cell_type": "code",
   "execution_count": null,
   "metadata": {},
   "outputs": [],
   "source": []
  }
 ],
 "metadata": {
  "kernelspec": {
   "display_name": "Python 3",
   "language": "python",
   "name": "python3"
  },
  "language_info": {
   "codemirror_mode": {
    "name": "ipython",
    "version": 3
   },
   "file_extension": ".py",
   "mimetype": "text/x-python",
   "name": "python",
   "nbconvert_exporter": "python",
   "pygments_lexer": "ipython3",
   "version": "3.6.4"
  }
 },
 "nbformat": 4,
 "nbformat_minor": 2
}
